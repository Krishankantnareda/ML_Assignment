{
 "cells": [
  {
   "cell_type": "raw",
   "id": "a6206518-33eb-43a7-98fa-29f19c09a66e",
   "metadata": {},
   "source": [
    "1. What does one mean by the term machine learning?"
   ]
  },
  {
   "cell_type": "markdown",
   "id": "0db7209e-aa67-48b2-90fb-98ee7ccd4ef4",
   "metadata": {},
   "source": [
    "Ans.\n",
    "The term “machine learning” was coined by Arthur Samuel,\n",
    "Machine learning is a branch of artificial intelligence (AI) and computer science which focuses on the use of data and algorithms to imitate the way that humans learn, gradually improving its accuracy. IBM has a rich history with machine learning.\n",
    "in short Machine learning is the science of developing algorithms and statistical models that computer systems use to perform tasks without explicit instructions, relying on patterns and inference instead."
   ]
  },
  {
   "cell_type": "raw",
   "id": "70893e11-76ba-402d-a77e-3a68738a6b65",
   "metadata": {},
   "source": [
    "2.Can you think of 4 distinct types of issues where it shines?"
   ]
  },
  {
   "cell_type": "markdown",
   "id": "90429b4e-2088-4552-997a-722ae757d101",
   "metadata": {},
   "source": [
    "Ans.\n",
    "Machine learning algorithms have had good results on problems such has spam detection in email, cancer diagnosis, fraudulent credit card transactions, and automatically driving vehicles."
   ]
  },
  {
   "cell_type": "raw",
   "id": "168df9cd-6386-4c09-bdf6-1410956342de",
   "metadata": {},
   "source": [
    "3.What is a labeled training set, and how does it work?"
   ]
  },
  {
   "cell_type": "markdown",
   "id": "4173b9e0-c6ae-445f-8d55-830757be03ef",
   "metadata": {},
   "source": [
    "Ans.\n",
    "The training set is used to train the algorithm, and then you use the trained model on the test set to predict the response variable values that are already known. The final step is to compare the predicted responses against the actual (observed) responses to see how close they are."
   ]
  },
  {
   "cell_type": "raw",
   "id": "1d176c15-742e-4a96-bde9-7551730ee5e4",
   "metadata": {},
   "source": [
    "4.What are the two most important tasks that are supervised?"
   ]
  },
  {
   "cell_type": "markdown",
   "id": "a134fa6e-8127-4665-9e2b-9e06e5ed9369",
   "metadata": {},
   "source": [
    "Ans.\n",
    " Two most common supervised tasks are classification and regression."
   ]
  },
  {
   "cell_type": "raw",
   "id": "c3dcc49f-1728-4344-84c3-f2147671f654",
   "metadata": {},
   "source": [
    "5.Can you think of four examples of unsupervised tasks?"
   ]
  },
  {
   "cell_type": "markdown",
   "id": "907be933-8eda-4ebb-9efb-577b93c0e4e7",
   "metadata": {},
   "source": [
    "Ans.\n",
    "Four common unsupervised tasks inclused clustering, visualization, dimensionality reduction , and association rule learning."
   ]
  },
  {
   "cell_type": "raw",
   "id": "f0046bec-5fd8-49d7-bbfd-480e8e121274",
   "metadata": {},
   "source": [
    "6.State the machine learning model that would be best to make a robot walk through various\n",
    "unfamiliar terrains?"
   ]
  },
  {
   "cell_type": "markdown",
   "id": "e0ac6d94-18ae-4271-89c6-bc6ec1de3b79",
   "metadata": {},
   "source": [
    "Ans.\n",
    " The best Machine Learning algorithm to allow a robot to walk in unknown terrain is Reinforced Learning, where the robot can learn from response of the terrain to optimize itself"
   ]
  },
  {
   "cell_type": "raw",
   "id": "e329febe-e618-424d-afca-d848281d9eed",
   "metadata": {},
   "source": [
    "7.Which algorithm will you use to divide your customers into different groups?"
   ]
  },
  {
   "cell_type": "markdown",
   "id": "b03833ad-c3ff-4420-9a20-1f21ab9f43a8",
   "metadata": {},
   "source": [
    "Ans.\n",
    "Clustering algorithm is a technique that assists customer segmentation which is a process of classifying similar customers into the same segment\n",
    "The goal of cluster analysis in marketing is to accurately segment customers in order to achieve more effective customer marketing via personalization. A common cluster analysis method is a mathematical algorithm known as k-means cluster analysis, sometimes referred to as scientific segmentation."
   ]
  },
  {
   "cell_type": "raw",
   "id": "41073fb5-86d9-41b7-b388-0396a4c63e27",
   "metadata": {},
   "source": [
    "8.Will you consider the problem of spam detection to be a supervised or unsupervised learning\n",
    "problem?"
   ]
  },
  {
   "cell_type": "markdown",
   "id": "ab5f672e-fe09-46e1-a66d-07e90bcdc9e1",
   "metadata": {},
   "source": [
    "Ans.\n",
    "Spam detection is a supervised machine learning problem because the labels are known (spam or no spam).. This means you must provide your machine learning model with a set of examples of spam and ham messages and let it find the relevant patterns that separate the two different categories."
   ]
  },
  {
   "cell_type": "raw",
   "id": "a2f21671-5fce-4d7f-bbe1-c234b3c6668b",
   "metadata": {},
   "source": [
    "9.What is the concept of an online learning system?"
   ]
  },
  {
   "cell_type": "markdown",
   "id": "408f0933-1839-4dc2-a7d8-37188b0df863",
   "metadata": {},
   "source": [
    "Ans.\n",
    "Online learning system is a learning system in which the machine learns as data is given in small streams continuously.\n",
    "Online learning refers to instruction that is delivered electronically through various multimedia and Internet platforms and applications. It is used interchangeably with other terms such as web-based learning, e-learning, computer-assisted instruction, and Internet-based learning."
   ]
  },
  {
   "cell_type": "raw",
   "id": "1da742cf-8c19-4706-9ca9-9e3f8b783a42",
   "metadata": {},
   "source": [
    "10.What is out-of-core learning, and how does it differ from core learning?"
   ]
  },
  {
   "cell_type": "markdown",
   "id": "5053fa01-7e10-4926-a1f5-43f11f62214e",
   "metadata": {},
   "source": [
    "Ans.\n",
    "“It is a way to train your model on data that cannot fit your core memory.” Out-of-core learning refers to the machine learning algorithms working with data that cannot fit into a single machine's memory but can easily fit into some data storage, such as a local hard disk or web repository"
   ]
  },
  {
   "cell_type": "raw",
   "id": "ba667bbf-6bb2-4a8d-9fc5-5065db0f544d",
   "metadata": {},
   "source": [
    "11.What kind of learning algorithm makes predictions using a similarity measure?"
   ]
  },
  {
   "cell_type": "markdown",
   "id": "6cdf05e9-c7dd-4cd6-8c31-461c50908073",
   "metadata": {},
   "source": [
    "Ans.\n",
    "Learning algorithm that relies on a similarity measure to make predictions is instance-based algorithm."
   ]
  },
  {
   "cell_type": "raw",
   "id": "8409ffd1-65a7-42f2-9a1e-84a92aae5171",
   "metadata": {},
   "source": [
    "12.What's the difference between a model parameter and a hyperparameter in a learning\n",
    "algorithm?"
   ]
  },
  {
   "cell_type": "markdown",
   "id": "4a7e7787-a15b-4c49-bfff-33827ab81b2e",
   "metadata": {},
   "source": [
    "Ans.\n",
    "Model parameter determines how a model will predict given a new instance; model usually has more than one parameter (i.e. slope of a linear model). Hyperparameter is a parameter for the learning algorithm, not of a model.\n",
    "in short, Model parameters are internal to the model and estimated from data automatically, whereas Hyperparameters are set manually and are used in the optimization of the model and help in estimating the model parameters"
   ]
  },
  {
   "cell_type": "raw",
   "id": "eb6e98d6-52bc-44d4-8eaf-1c7d3d4201cc",
   "metadata": {},
   "source": [
    "13.What are the criteria that model-based learning algorithms look for? What is the most popular\n",
    "method they use to achieve success? What method do they use to make predictions?"
   ]
  },
  {
   "cell_type": "markdown",
   "id": "ae471421-7c0e-44f7-8802-8209389ecf00",
   "metadata": {},
   "source": [
    "Ans.\n",
    "Model based learning algorithm search for the optimal value of parameters in a model that will give the best results for the new instances. We often use a cost function or similar to determine what the parameter value has to be in order to minimize the function. The model makes prediction by using the value of the new instance and the parameters in its function."
   ]
  },
  {
   "cell_type": "raw",
   "id": "454175ea-42d4-4be3-8abb-44f44b5101fe",
   "metadata": {},
   "source": [
    "14.Can you name four of the most important Machine Learning challenges?"
   ]
  },
  {
   "cell_type": "markdown",
   "id": "32c13533-01ed-46f3-a6b9-0ae7177b7150",
   "metadata": {},
   "source": [
    "Ans.    \"four of the most important Machine Learning challenges?\"\n",
    "Poor Quality of Data. Data plays a significant role in the machine learning process,\n",
    "Underfitting of Training Data,\n",
    "Overfitting of Training Data,\n",
    "nonrepresentative data."
   ]
  },
  {
   "cell_type": "raw",
   "id": "389ab5fc-8cfa-467b-88e1-ee46b29d758d",
   "metadata": {},
   "source": [
    "15.What happens if the model performs well on the training data but fails to generalize the results\n",
    "to new situations? Can you think of three different options?"
   ]
  },
  {
   "cell_type": "markdown",
   "id": "538e4900-4764-47c2-95eb-284828babb06",
   "metadata": {},
   "source": [
    "Ans.\n",
    "This is because the model is unable to capture the relationship between the input examples (often called X) and the target values (often called Y). Your model is overfitting your training data when you see that the model performs well on the training data but does not perform well on the evaluation data.\n",
    "\n",
    "\n",
    " To solve this, we can do any of the following three: get more data, implement a simpler model, or eliminate outliers or noise from the existing data set."
   ]
  },
  {
   "cell_type": "raw",
   "id": "7da71a7a-6a8c-48c0-bf20-7bf94a278dc0",
   "metadata": {},
   "source": [
    "16.What exactly is a test set, and why would you need one?"
   ]
  },
  {
   "cell_type": "markdown",
   "id": "a9467225-b0db-483e-a52e-1ebe58d8c9f9",
   "metadata": {},
   "source": [
    "Ans.\n",
    "A test set is a portion of a data set used in data mining to assess the likely future performance of a single prediction or classification model that has been selected from among competing models, based on its performance with the validation set.\n",
    "Test set is necessary so that you can determine how good (or bad) your model performs."
   ]
  },
  {
   "cell_type": "raw",
   "id": "36a46ca7-a337-4db2-8f94-190bd2e8027f",
   "metadata": {},
   "source": [
    "17.What is a validation set's purpose?"
   ]
  },
  {
   "cell_type": "markdown",
   "id": "2332ff35-026e-48c8-9c1b-7e898e9d2b3b",
   "metadata": {},
   "source": [
    "Ans.\n",
    "A validation set is a set of data used to train artificial intelligence (AI) with the goal of finding and optimizing the best model to solve a given problem. Validation sets are also known as dev sets.\n",
    "Validation set is a set used to compare between different training models."
   ]
  },
  {
   "cell_type": "raw",
   "id": "663402a9-7635-4d88-9531-5898f9457fe1",
   "metadata": {},
   "source": [
    "18.What precisely is the train-dev kit, when will you need it, how do you put it to use?"
   ]
  },
  {
   "cell_type": "markdown",
   "id": "dc21375e-782d-42b9-b2c5-217a3082730c",
   "metadata": {},
   "source": [
    "Ans.\n",
    "The goal of dev-set is to rank the models in term of their accuracy and helps us decide which model to proceed further with. Using Dev set we rank all our models in terms of their accuracy and pick the best performing model. i.e. dev set ranks models similar to a search engine like google rank pages and then pick the top model and hence act as a filter to remove bad models."
   ]
  },
  {
   "cell_type": "raw",
   "id": "3f3ba402-a2cd-4fe0-a757-07b8ab7c21dc",
   "metadata": {},
   "source": [
    "19.What could go wrong if you use the test set to tune hyperparameters?"
   ]
  },
  {
   "cell_type": "markdown",
   "id": "18c3748a-210a-4b58-ae9b-f29b2d125f18",
   "metadata": {},
   "source": [
    "Ans.\n",
    "Tuning model hyper-parameters to a test set means that the hyper-parameters may overfit to that test set. If the same test set is used to estimate performance, it will produce an overestimate. The test set should be used only for testing, not for parameter tuning"
   ]
  }
 ],
 "metadata": {
  "kernelspec": {
   "display_name": "Python 3 (ipykernel)",
   "language": "python",
   "name": "python3"
  },
  "language_info": {
   "codemirror_mode": {
    "name": "ipython",
    "version": 3
   },
   "file_extension": ".py",
   "mimetype": "text/x-python",
   "name": "python",
   "nbconvert_exporter": "python",
   "pygments_lexer": "ipython3",
   "version": "3.10.6"
  }
 },
 "nbformat": 4,
 "nbformat_minor": 5
}
